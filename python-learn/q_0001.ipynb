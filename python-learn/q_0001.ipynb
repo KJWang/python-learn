{
 "cells": [
  {
   "cell_type": "code",
   "execution_count": 4,
   "metadata": {
    "collapsed": true
   },
   "outputs": [
    {
     "name": "stdout",
     "output_type": "stream",
     "text": [
      "['xzJL8K', 'st7SCH', 'I8nqrH', 'Lxq2to', 'qdSmvS', 'H9T1xb', 'ayHsuX', 'FnJsi8', 'VZdhlP', '6tVr9m', 'mxi30l', 'P1krJA', 'e5Ac8i', 'PpX1jr', 'dJUops', '0EjuOM', 'IbRbpJ', 'XP1Smx', 'Xk3gYw', 'I2LYxk']\n"
     ]
    }
   ],
   "source": [
    "import random\n",
    "\n",
    "def method1(count, length):\n",
    "    source = 'abcdefghijklmnopqrstuvwxyzABCDEFGHIJKLMNOPQRSTUVWXYZ0123456789'\n",
    "    gifts = []\n",
    "    while len(gifts) < count:\n",
    "        gift = ''\n",
    "        while len(gift) < length:\n",
    "            sub = random.choice(source)\n",
    "            gift += sub\n",
    "        if gift not in gifts:\n",
    "            gifts.append(gift)\n",
    "    return gifts\n",
    "\n",
    "p = method1(20, 6)\n",
    "print(p)"
   ]
  },
  {
   "cell_type": "code",
   "execution_count": null,
   "metadata": {},
   "outputs": [],
   "source": [
    ""
   ]
  }
 ],
 "metadata": {
  "kernelspec": {
   "display_name": "Python 2",
   "language": "python",
   "name": "python2"
  },
  "language_info": {
   "codemirror_mode": {
    "name": "ipython",
    "version": 2.0
   },
   "file_extension": ".py",
   "mimetype": "text/x-python",
   "name": "python",
   "nbconvert_exporter": "python",
   "pygments_lexer": "ipython2",
   "version": "2.7.6"
  }
 },
 "nbformat": 4,
 "nbformat_minor": 0
}
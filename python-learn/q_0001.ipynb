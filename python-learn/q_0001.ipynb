{
 "cells": [
  {
   "cell_type": "code",
   "execution_count": 4,
   "metadata": {
    "collapsed": true
   },
   "outputs": [
    {
     "name": "stdout",
     "output_type": "stream",
     "text": [
      "['xzJL8K', 'st7SCH', 'I8nqrH', 'Lxq2to', 'qdSmvS', 'H9T1xb', 'ayHsuX', 'FnJsi8', 'VZdhlP', '6tVr9m', 'mxi30l', 'P1krJA', 'e5Ac8i', 'PpX1jr', 'dJUops', '0EjuOM', 'IbRbpJ', 'XP1Smx', 'Xk3gYw', 'I2LYxk']\n"
     ]
    }
   ],
   "source": [
    "import random\n",
    "\n",
    "def method1(count, length):\n",
    "    source = 'abcdefghijklmnopqrstuvwxyzABCDEFGHIJKLMNOPQRSTUVWXYZ0123456789'\n",
    "    gifts = []\n",
    "    while len(gifts) < count:\n",
    "        gift = ''\n",
    "        while len(gift) < length:\n",
    "            sub = random.choice(source)\n",
    "            gift += sub\n",
    "        if gift not in gifts:\n",
    "            gifts.append(gift)\n",
    "    return gifts\n",
    "\n",
    "p = method1(20, 6)\n",
    "print(p)"
   ]
  },
  {
   "cell_type": "code",
   "execution_count": 40,
   "metadata": {
    "collapsed": true
   },
   "outputs": [
    {
     "name": "stdout",
     "output_type": "stream",
     "text": [
      "<_sre.SRE_Match object; span=(0, 11), match='wangjie_app'>\n<_sre.SRE_Match object; span=(0, 10), match='2017-02-31'>\n<_sre.SRE_Match object; span=(0, 10), match='2016-02-29'>\n"
     ]
    }
   ],
   "source": [
    "import re\n",
    "\n",
    "print(re.compile(\"\\w+\").match('wangjie_app'))\n",
    "print(re.compile('^2\\d{3}-(0[1-9]|1[0-2])-([0-2][0-9]|30|31)').match('2017-02-31'))\n",
    "p = '((^((1[8-9]\\d{2})|([2-9]\\d{3}))([-\\/\\._])(10|12|0?[13578])([-\\/\\._])(3[01]|[12][0-9]|0?[1-9])$)|(^((1[8-9]\\d{2})|([2-9]\\d{3}))([-\\/\\._])(11|0?[469])([-\\/\\._])(30|[12][0-9]|0?[1-9])$)|(^((1[8-9]\\d{2})|([2-9]\\d{3}))([-\\/\\._])(0?2)([-\\/\\._])(2[0-8]|1[0-9]|0?[1-9])$)|(^([2468][048]00)([-\\/\\._])(0?2)([-\\/\\._])(29)$)|(^([3579][26]00)([-\\/\\._])(0?2)([-\\/\\._])(29)$)|(^([1][89][0][48])([-\\/\\._])(0?2)([-\\/\\._])(29)$)|(^([2-9][0-9][0][48])([-\\/\\._])(0?2)([-\\/\\._])(29)$)|(^([1][89][2468][048])([-\\/\\._])(0?2)([-\\/\\._])(29)$)|(^([2-9][0-9][2468][048])([-\\/\\._])(0?2)([-\\/\\._])(29)$)|(^([1][89][13579][26])([-\\/\\._])(0?2)([-\\/\\._])(29)$)|(^([2-9][0-9][13579][26])([-\\/\\._])(0?2)([-\\/\\._])(29)$))'\n",
    "print(re.compile(p).match('2016-02-29'))"
   ]
  },
  {
   "cell_type": "code",
   "execution_count": null,
   "metadata": {},
   "outputs": [],
   "source": [
    ""
   ]
  }
 ],
 "metadata": {
  "kernelspec": {
   "display_name": "Python 2",
   "language": "python",
   "name": "python2"
  },
  "language_info": {
   "codemirror_mode": {
    "name": "ipython",
    "version": 2.0
   },
   "file_extension": ".py",
   "mimetype": "text/x-python",
   "name": "python",
   "nbconvert_exporter": "python",
   "pygments_lexer": "ipython2",
   "version": "2.7.6"
  }
 },
 "nbformat": 4,
 "nbformat_minor": 0
}